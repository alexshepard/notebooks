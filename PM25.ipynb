{
 "cells": [
  {
   "cell_type": "code",
   "execution_count": 5,
   "metadata": {
    "collapsed": true
   },
   "outputs": [],
   "source": [
    "import requests\n",
    "from datetime import date\n",
    "from calendar import monthrange"
   ]
  },
  {
   "cell_type": "code",
   "execution_count": 42,
   "metadata": {
    "collapsed": true
   },
   "outputs": [],
   "source": [
    "# https://files.airnowtech.org/airnow/2016/20161101/peak_aqi_usa.jpg\n",
    "image_url_base = \"https://files.airnowtech.org/airnow/{}/{}/peak_aqi_usa.jpg\""
   ]
  },
  {
   "cell_type": "code",
   "execution_count": null,
   "metadata": {
    "collapsed": false
   },
   "outputs": [],
   "source": [
    "s = requests.session()\n",
    "numdays = 365\n",
    "base = datetime.datetime.today()\n",
    "date_list = [base - datetime.timedelta(days=x) for x in range(0, numdays)]\n",
    "for date in date_list:\n",
    "    ymd = \"{}{:02}{:02}\".format(date.year, date.month, date.day)\n",
    "    url = image_url_base.format(date.year, ymd)\n",
    "    download_file = \"pm25_images/{}.jpg\".format(ymd)\n",
    "    import os.path\n",
    "    if os.path.isfile(download_file):\n",
    "        continue\n",
    "    r = s.get(url, stream=True)\n",
    "    if r.status_code == 200:\n",
    "        with open(download_file, 'wb') as f:\n",
    "            for chunk in r:\n",
    "                f.write(chunk)"
   ]
  },
  {
   "cell_type": "code",
   "execution_count": null,
   "metadata": {
    "collapsed": true
   },
   "outputs": [],
   "source": []
  }
 ],
 "metadata": {
  "anaconda-cloud": {},
  "kernelspec": {
   "display_name": "Python [default]",
   "language": "python",
   "name": "python3"
  },
  "language_info": {
   "codemirror_mode": {
    "name": "ipython",
    "version": 3
   },
   "file_extension": ".py",
   "mimetype": "text/x-python",
   "name": "python",
   "nbconvert_exporter": "python",
   "pygments_lexer": "ipython3",
   "version": "3.5.2"
  }
 },
 "nbformat": 4,
 "nbformat_minor": 1
}
